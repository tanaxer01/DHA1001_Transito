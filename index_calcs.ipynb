{
  "cells": [
    {
      "cell_type": "markdown",
      "metadata": {
        "id": "view-in-github",
        "colab_type": "text"
      },
      "source": [
        "<a href=\"https://colab.research.google.com/github/tanaxer01/DHA1001_Transito/blob/main/index_calcs.ipynb\" target=\"_parent\"><img src=\"https://colab.research.google.com/assets/colab-badge.svg\" alt=\"Open In Colab\"/></a>"
      ]
    },
    {
      "cell_type": "code",
      "execution_count": 255,
      "id": "4c87beea",
      "metadata": {
        "id": "4c87beea"
      },
      "outputs": [],
      "source": [
        "!if [ ! -d mov-in-covid ]; then \\\n",
        "  git clone https://github.com/tanaxer01/mov-in-covid; \\\n",
        "  mv mov-in-covid/*.py .; fi\n",
        "\n",
        "from datetime import datetime, timedelta\n",
        "import matplotlib.pyplot as plt\n",
        "import pandas as pd\n",
        "import numpy  as np\n",
        "import utils"
      ]
    },
    {
      "cell_type": "code",
      "source": [
        "datasets = {\n",
        "  # DP1\n",
        "  \"dp1_contagios\": \"https://raw.githubusercontent.com/MinCiencia/Datos-COVID19/master/output/producto1/Covid-19_std.csv\",\n",
        "  # DP51\n",
        "  \"dp51_difs\": \"https://raw.githubusercontent.com/MinCiencia/Datos-COVID19/master/output/producto51/ISCI_std.csv\",\n",
        "  # DP82\n",
        "  \"dp82_weeks\": \"https://raw.githubusercontent.com/MinCiencia/Datos-COVID19/master/output/producto82/ISCI_weeks.csv\",\n",
        "  \"dp82_weekends\": \"https://raw.githubusercontent.com/MinCiencia/Datos-COVID19/master/output/producto82/ISCI_weekends.csv\",\n",
        "  # DP...\n",
        "}\n",
        "\n",
        "for name, url in datasets.items():\n",
        "  utils.get_file(name, url)"
      ],
      "metadata": {
        "id": "dE7TsUSHPUKB",
        "colab": {
          "base_uri": "https://localhost:8080/"
        },
        "outputId": "02aebc51-8baf-4812-b63b-f3590751a5c8"
      },
      "id": "dE7TsUSHPUKB",
      "execution_count": 3,
      "outputs": [
        {
          "output_type": "stream",
          "name": "stdout",
          "text": [
            "[+] created ./datos/\n",
            "[+] downloaded ./datos/dp1_contagios\n",
            "[+] downloaded ./datos/dp51_difs\n",
            "[+] downloaded ./datos/dp82_weeks\n",
            "[+] downloaded ./datos/dp82_weekends\n"
          ]
        }
      ]
    },
    {
      "cell_type": "markdown",
      "source": [
        "# DATASET PREP"
      ],
      "metadata": {
        "id": "Sp7qZnX4aqkG"
      },
      "id": "Sp7qZnX4aqkG"
    },
    {
      "cell_type": "markdown",
      "source": [
        "# DP1"
      ],
      "metadata": {
        "id": "TT1Bd7n58CpD"
      },
      "id": "TT1Bd7n58CpD"
    },
    {
      "cell_type": "code",
      "source": [
        "DataProduct1 = pd.read_csv(\"./datos/dp1_contagios.csv\", parse_dates=[\"Fecha\"])\n",
        "\n",
        "# Just RM\n",
        "DataProduct1 = DataProduct1[ DataProduct1[\"Codigo region\"] == 13 ].drop(columns=[\"Region\", \"Codigo region\"])\n",
        "DataProduct1 = DataProduct1.set_index(\"Fecha\")\n",
        "\n",
        "# Week num\n",
        "DataProduct1[\"Semana\"] = (DataProduct1.index.to_series() - datetime.strptime(\"2020-01-01\", \"%Y-%m-%d\")).dt.days // 7\n",
        "\n",
        "# Drop `Desconocido Metropolitana`\n",
        "DataProduct1 = DataProduct1[ DataProduct1.Comuna != \"Desconocido Metropolitana\" ]\n",
        "\n",
        "casos = pd.DataFrame({ i:DataProduct1[ DataProduct1.Comuna == i ].groupby(\"Semana\")[\"Casos confirmados\"].mean() for i in set(DataProduct1.Comuna) }) \n",
        "casos_nuevos = casos.subtract( casos.shift(periods=1, fill_value=0) )\n",
        "\n",
        "#casos_old = DataProduct1.pivot_table(values=\"Casos confirmados\", index=\"Fecha\", columns=\"Comuna\")\n",
        "#casos_oldnuevos = casos.subtract( casos.shift(periods=1, fill_value=0) )\n",
        "\n",
        "DataProduct1.head(2)\n",
        "\n",
        "plt.figure()\n",
        "plt.plot(casos[\"Santiago\"] / casos[\"Santiago\"].max())\n",
        "plt.plot(casos_nuevos[\"Santiago\"] / casos_nuevos[\"Santiago\"].max())\n",
        "\n",
        "plt.show()"
      ],
      "metadata": {
        "colab": {
          "base_uri": "https://localhost:8080/",
          "height": 265
        },
        "id": "teYjKvj77aUE",
        "outputId": "9091115b-d549-4573-ac21-4d273248eb09"
      },
      "id": "teYjKvj77aUE",
      "execution_count": 308,
      "outputs": [
        {
          "output_type": "display_data",
          "data": {
            "text/plain": [
              "<Figure size 432x288 with 1 Axes>"
            ],
            "image/png": "[encoded data removed]"
          },
          "metadata": {
            "needs_background": "light"
          }
        }
      ]
    },
    {
      "cell_type": "code",
      "source": [
        "date2week = lambda x: (datetime.strptime(x, \"%Y-%m-%d\") - datetime.strptime(\"2020-01-01\", \"%Y-%m-%d\")).days // 7\n",
        "\n",
        "plt.subplot(3,1,1)\n",
        "plt.plot( casos_nuevos.loc[:date2week(\"2021-01-01\")] )\n",
        "\n",
        "for i in [\"2020-01-01\", \"2020-05-01\", \"2020-07-01\", \"2020-12-31\"]:\n",
        "  plt.axvline(x=date2week(i), color='black', linestyle='--')\n",
        "\n",
        "plt.subplot(3,1,2)\n",
        "plt.plot( casos_nuevos.loc[date2week(\"2021-01-01\"):date2week(\"2022-01-01\")] )\n",
        "\n",
        "for i in [\"2021-01-01\", \"2021-05-01\", \"2021-07-01\", \"2021-12-31\"]:\n",
        "  plt.axvline(x=date2week(i), color='black', linestyle='--')\n",
        "\n",
        "plt.subplot(3,1,3)\n",
        "plt.plot( casos_nuevos.loc[date2week(\"2022-01-01\"):] )\n",
        "\n",
        "for i in [\"2022-01-01\", \"2022-05-01\", \"2022-07-01\", \"2022-12-31\"]:\n",
        "  plt.axvline(x=date2week(i), color='black', linestyle='--')\n",
        "\n",
        "plt.show()"
      ],
      "metadata": {
        "colab": {
          "base_uri": "https://localhost:8080/",
          "height": 265
        },
        "id": "MqC-Kbx4ABqD",
        "outputId": "aa2e37cb-283a-4fff-b50f-cee33544a88e"
      },
      "id": "MqC-Kbx4ABqD",
      "execution_count": 303,
      "outputs": [
        {
          "output_type": "display_data",
          "data": {
            "text/plain": [
              "<Figure size 432x288 with 3 Axes>"
            ],
            "image/png": "[encoded data removed]"
          },
          "metadata": {
            "needs_background": "light"
          }
        }
      ]
    },
    {
      "cell_type": "code",
      "source": [
        "from statsmodels.tsa.seasonal import seasonal_decompose\n",
        "\n",
        "decompose = seasonal_decompose(casos_nuevos[\"Santiago\"], period=16, model=\"multiplicative\").plot()"
      ],
      "metadata": {
        "id": "Typvd4J7GByo",
        "outputId": "4db0b4da-02bc-453c-8a4d-bf17ec179901",
        "colab": {
          "base_uri": "https://localhost:8080/",
          "height": 297
        }
      },
      "id": "Typvd4J7GByo",
      "execution_count": 312,
      "outputs": [
        {
          "output_type": "display_data",
          "data": {
            "text/plain": [
              "<Figure size 432x288 with 4 Axes>"
            ],
            "image/png": "[encoded data removed]"
          },
          "metadata": {
            "needs_background": "light"
          }
        }
      ]
    },
    {
      "cell_type": "markdown",
      "source": [
        "## DP51\n",
        "link: [product51](https://github.com/MinCiencia/Datos-COVID19/tree/master/output/producto51)\n"
      ],
      "metadata": {
        "id": "j4zvxr6La0jQ"
      },
      "id": "j4zvxr6La0jQ"
    },
    {
      "cell_type": "code",
      "source": [
        "df_difs = pd.read_csv(\"./datos/dp51_difs.csv\")\n",
        "\n",
        "# Fecha to Datetime && sort by Fecha\n",
        "df_difs['Fecha'] = pd.to_datetime(df_difs['Fecha'])\n",
        "df_difs = df_difs.sort_values(by=['Fecha'])\n",
        "\n",
        "# Just RM\n",
        "df_difs = df_difs[ df_difs['Codigo region'] == 13 ].drop(columns=['Region', 'Codigo region'])\n",
        "\n",
        "# Calc prom of Dif salida y Dif entrada.\n",
        "def parse_diff(x):\n",
        "  mean = sum([ int(i)  for i in x[1:-2].replace('%','').split(\",\") ])/2\n",
        "  \n",
        "  return (100 + mean)/100\n",
        "\n",
        "df_difs['Salida'] = df_difs['Dif salida'].map(parse_diff)\n",
        "df_difs['Entrada'] = df_difs['Dif entrada'].map(parse_diff)\n",
        "\n",
        "df_salidas  = pd.DataFrame({ i:df_difs[ df_difs[\"Comuna\"] == i ].groupby(\"Fecha\")[\"Salida\"].mean() for i in set(df_difs[\"Comuna\"]) })\n",
        "df_entradas = pd.DataFrame({ i:df_difs[ df_difs[\"Comuna\"] == i ].groupby(\"Fecha\")[\"Entrada\"].mean() for i in set(df_difs[\"Comuna\"]) })\n",
        "\n",
        "df_difs.head(1)"
      ],
      "metadata": {
        "id": "DvR68yc3aa1e",
        "colab": {
          "base_uri": "https://localhost:8080/",
          "height": 81
        },
        "outputId": "cfe433e5-47e6-4c76-bfe6-a02c2857f78d"
      },
      "id": "DvR68yc3aa1e",
      "execution_count": 276,
      "outputs": [
        {
          "output_type": "execute_result",
          "data": {
            "text/plain": [
              "           Comuna  Codigo comuna  Cartodb id  Zona censal  Week    Dif salida  \\\n",
              "458790  Peñalolén          13122      501401  13122011003     9  [-21%,+20%,]   \n",
              "\n",
              "         Dif entrada      Fecha  Salida  Entrada  \n",
              "458790  [-21%,+20%,] 2020-03-02   0.995    0.995  "
            ],
            "text/html": [
              "\n",
              "  <div id=\"df-fb9adb47-b354-4b3d-a429-e2a7e438109e\">\n",
              "    <div class=\"colab-df-container\">\n",
              "      <div>\n",
              "<style scoped>\n",
              "    .dataframe tbody tr th:only-of-type {\n",
              "        vertical-align: middle;\n",
              "    }\n",
              "\n",
              "    .dataframe tbody tr th {\n",
              "        vertical-align: top;\n",
              "    }\n",
              "\n",
              "    .dataframe thead th {\n",
              "        text-align: right;\n",
              "    }\n",
              "</style>\n",
              "<table border=\"1\" class=\"dataframe\">\n",
              "  <thead>\n",
              "    <tr style=\"text-align: right;\">\n",
              "      <th></th>\n",
              "      <th>Comuna</th>\n",
              "      <th>Codigo comuna</th>\n",
              "      <th>Cartodb id</th>\n",
              "      <th>Zona censal</th>\n",
              "      <th>Week</th>\n",
              "      <th>Dif salida</th>\n",
              "      <th>Dif entrada</th>\n",
              "      <th>Fecha</th>\n",
              "      <th>Salida</th>\n",
              "      <th>Entrada</th>\n",
              "    </tr>\n",
              "  </thead>\n",
              "  <tbody>\n",
              "    <tr>\n",
              "      <th>458790</th>\n",
              "      <td>Peñalolén</td>\n",
              "      <td>13122</td>\n",
              "      <td>501401</td>\n",
              "      <td>13122011003</td>\n",
              "      <td>9</td>\n",
              "      <td>[-21%,+20%,]</td>\n",
              "      <td>[-21%,+20%,]</td>\n",
              "      <td>2020-03-02</td>\n",
              "      <td>0.995</td>\n",
              "      <td>0.995</td>\n",
              "    </tr>\n",
              "  </tbody>\n",
              "</table>\n",
              "</div>\n",
              "      <button class=\"colab-df-convert\" onclick=\"convertToInteractive('df-fb9adb47-b354-4b3d-a429-e2a7e438109e')\"\n",
              "              title=\"Convert this dataframe to an interactive table.\"\n",
              "              style=\"display:none;\">\n",
              "        \n",
              "  <svg xmlns=\"http://www.w3.org/2000/svg\" height=\"24px\"viewBox=\"0 0 24 24\"\n",
              "       width=\"24px\">\n",
              "    <path d=\"M0 0h24v24H0V0z\" fill=\"none\"/>\n",
              "    <path d=\"M18.56 5.44l.94 2.06.94-2.06 2.06-.94-2.06-.94-.94-2.06-.94 2.06-2.06.94zm-11 1L8.5 8.5l.94-2.06 2.06-.94-2.06-.94L8.5 2.5l-.94 2.06-2.06.94zm10 10l.94 2.06.94-2.06 2.06-.94-2.06-.94-.94-2.06-.94 2.06-2.06.94z\"/><path d=\"M17.41 7.96l-1.37-1.37c-.4-.4-.92-.59-1.43-.59-.52 0-1.04.2-1.43.59L10.3 9.45l-7.72 7.72c-.78.78-.78 2.05 0 2.83L4 21.41c.39.39.9.59 1.41.59.51 0 1.02-.2 1.41-.59l7.78-7.78 2.81-2.81c.8-.78.8-2.07 0-2.86zM5.41 20L4 18.59l7.72-7.72 1.47 1.35L5.41 20z\"/>\n",
              "  </svg>\n",
              "      </button>\n",
              "      \n",
              "  <style>\n",
              "    .colab-df-container {\n",
              "      display:flex;\n",
              "      flex-wrap:wrap;\n",
              "      gap: 12px;\n",
              "    }\n",
              "\n",
              "    .colab-df-convert {\n",
              "      background-color: #E8F0FE;\n",
              "      border: none;\n",
              "      border-radius: 50%;\n",
              "      cursor: pointer;\n",
              "      display: none;\n",
              "      fill: #1967D2;\n",
              "      height: 32px;\n",
              "      padding: 0 0 0 0;\n",
              "      width: 32px;\n",
              "    }\n",
              "\n",
              "    .colab-df-convert:hover {\n",
              "      background-color: #E2EBFA;\n",
              "      box-shadow: 0px 1px 2px rgba(60, 64, 67, 0.3), 0px 1px 3px 1px rgba(60, 64, 67, 0.15);\n",
              "      fill: #174EA6;\n",
              "    }\n",
              "\n",
              "    [theme=dark] .colab-df-convert {\n",
              "      background-color: #3B4455;\n",
              "      fill: #D2E3FC;\n",
              "    }\n",
              "\n",
              "    [theme=dark] .colab-df-convert:hover {\n",
              "      background-color: #434B5C;\n",
              "      box-shadow: 0px 1px 3px 1px rgba(0, 0, 0, 0.15);\n",
              "      filter: drop-shadow(0px 1px 2px rgba(0, 0, 0, 0.3));\n",
              "      fill: #FFFFFF;\n",
              "    }\n",
              "  </style>\n",
              "\n",
              "      <script>\n",
              "        const buttonEl =\n",
              "          document.querySelector('#df-fb9adb47-b354-4b3d-a429-e2a7e438109e button.colab-df-convert');\n",
              "        buttonEl.style.display =\n",
              "          google.colab.kernel.accessAllowed ? 'block' : 'none';\n",
              "\n",
              "        async function convertToInteractive(key) {\n",
              "          const element = document.querySelector('#df-fb9adb47-b354-4b3d-a429-e2a7e438109e');\n",
              "          const dataTable =\n",
              "            await google.colab.kernel.invokeFunction('convertToInteractive',\n",
              "                                                     [key], {});\n",
              "          if (!dataTable) return;\n",
              "\n",
              "          const docLinkHtml = 'Like what you see? Visit the ' +\n",
              "            '<a target=\"_blank\" href=https://colab.research.google.com/notebooks/data_table.ipynb>data table notebook</a>'\n",
              "            + ' to learn more about interactive tables.';\n",
              "          element.innerHTML = '';\n",
              "          dataTable['output_type'] = 'display_data';\n",
              "          await google.colab.output.renderOutput(dataTable, element);\n",
              "          const docLink = document.createElement('div');\n",
              "          docLink.innerHTML = docLinkHtml;\n",
              "          element.appendChild(docLink);\n",
              "        }\n",
              "      </script>\n",
              "    </div>\n",
              "  </div>\n",
              "  "
            ]
          },
          "metadata": {},
          "execution_count": 276
        }
      ]
    },
    {
      "cell_type": "code",
      "source": [
        "df_difs[ df_difs[\"Week\"] == df_difs[\"Week\"].max() ]"
      ],
      "metadata": {
        "colab": {
          "base_uri": "https://localhost:8080/",
          "height": 424
        },
        "id": "HuLgSZb2AOWw",
        "outputId": "c87a8c5b-2c9c-4081-8141-3ae958946df1"
      },
      "id": "HuLgSZb2AOWw",
      "execution_count": 279,
      "outputs": [
        {
          "output_type": "execute_result",
          "data": {
            "text/plain": [
              "                  Comuna  Codigo comuna  Cartodb id  Zona censal  Week  \\\n",
              "500369   Calera de Tango          13403      491830  13403021002   121   \n",
              "40006           Santiago          13101      321990  13101081003   121   \n",
              "40776           Santiago          13101      334420  13101211001   121   \n",
              "39896           Santiago          13101      321880  13101081002   121   \n",
              "499929   Calera de Tango          13403      406140  13403011001   121   \n",
              "...                  ...            ...         ...          ...   ...   \n",
              "382669  Estación Central          13106      444420  13106101004   121   \n",
              "383109  Estación Central          13106      466200  13106081002   121   \n",
              "477709        San Miguel          13130      365000  13130061002   121   \n",
              "383219  Estación Central          13106      466310  13106081003   121   \n",
              "477599        San Miguel          13130      364890  13130061001   121   \n",
              "\n",
              "          Dif salida    Dif entrada      Fecha  Salida  Entrada  \n",
              "500369  [-21%,+20%,]   [-21%,+20%,] 2022-04-25   0.995    0.995  \n",
              "40006   [+21%,+40%,]  [+61%,+100%,] 2022-04-25   1.305    1.805  \n",
              "40776   [-21%,+20%,]   [-40%,-21%,] 2022-04-25   0.995    0.695  \n",
              "39896   [-21%,+20%,]   [+41%,+60%,] 2022-04-25   0.995    1.505  \n",
              "499929  [-21%,+20%,]  [+61%,+100%,] 2022-04-25   0.995    1.805  \n",
              "...              ...            ...        ...     ...      ...  \n",
              "382669  [-21%,+20%,]   [-21%,+20%,] 2022-04-25   0.995    0.995  \n",
              "383109  [-21%,+20%,]  [+61%,+100%,] 2022-04-25   0.995    1.805  \n",
              "477709  [-21%,+20%,]   [-21%,+20%,] 2022-04-25   0.995    0.995  \n",
              "383219  [-21%,+20%,]   [+21%,+40%,] 2022-04-25   0.995    1.305  \n",
              "477599  [-21%,+20%,]   [-60%,-41%,] 2022-04-25   0.995    0.495  \n",
              "\n",
              "[1864 rows x 10 columns]"
            ],
            "text/html": [
              "\n",
              "  <div id=\"df-e6232b41-df40-41e7-b6a3-77aff42819a8\">\n",
              "    <div class=\"colab-df-container\">\n",
              "      <div>\n",
              "<style scoped>\n",
              "    .dataframe tbody tr th:only-of-type {\n",
              "        vertical-align: middle;\n",
              "    }\n",
              "\n",
              "    .dataframe tbody tr th {\n",
              "        vertical-align: top;\n",
              "    }\n",
              "\n",
              "    .dataframe thead th {\n",
              "        text-align: right;\n",
              "    }\n",
              "</style>\n",
              "<table border=\"1\" class=\"dataframe\">\n",
              "  <thead>\n",
              "    <tr style=\"text-align: right;\">\n",
              "      <th></th>\n",
              "      <th>Comuna</th>\n",
              "      <th>Codigo comuna</th>\n",
              "      <th>Cartodb id</th>\n",
              "      <th>Zona censal</th>\n",
              "      <th>Week</th>\n",
              "      <th>Dif salida</th>\n",
              "      <th>Dif entrada</th>\n",
              "      <th>Fecha</th>\n",
              "      <th>Salida</th>\n",
              "      <th>Entrada</th>\n",
              "    </tr>\n",
              "  </thead>\n",
              "  <tbody>\n",
              "    <tr>\n",
              "      <th>500369</th>\n",
              "      <td>Calera de Tango</td>\n",
              "      <td>13403</td>\n",
              "      <td>491830</td>\n",
              "      <td>13403021002</td>\n",
              "      <td>121</td>\n",
              "      <td>[-21%,+20%,]</td>\n",
              "      <td>[-21%,+20%,]</td>\n",
              "      <td>2022-04-25</td>\n",
              "      <td>0.995</td>\n",
              "      <td>0.995</td>\n",
              "    </tr>\n",
              "    <tr>\n",
              "      <th>40006</th>\n",
              "      <td>Santiago</td>\n",
              "      <td>13101</td>\n",
              "      <td>321990</td>\n",
              "      <td>13101081003</td>\n",
              "      <td>121</td>\n",
              "      <td>[+21%,+40%,]</td>\n",
              "      <td>[+61%,+100%,]</td>\n",
              "      <td>2022-04-25</td>\n",
              "      <td>1.305</td>\n",
              "      <td>1.805</td>\n",
              "    </tr>\n",
              "    <tr>\n",
              "      <th>40776</th>\n",
              "      <td>Santiago</td>\n",
              "      <td>13101</td>\n",
              "      <td>334420</td>\n",
              "      <td>13101211001</td>\n",
              "      <td>121</td>\n",
              "      <td>[-21%,+20%,]</td>\n",
              "      <td>[-40%,-21%,]</td>\n",
              "      <td>2022-04-25</td>\n",
              "      <td>0.995</td>\n",
              "      <td>0.695</td>\n",
              "    </tr>\n",
              "    <tr>\n",
              "      <th>39896</th>\n",
              "      <td>Santiago</td>\n",
              "      <td>13101</td>\n",
              "      <td>321880</td>\n",
              "      <td>13101081002</td>\n",
              "      <td>121</td>\n",
              "      <td>[-21%,+20%,]</td>\n",
              "      <td>[+41%,+60%,]</td>\n",
              "      <td>2022-04-25</td>\n",
              "      <td>0.995</td>\n",
              "      <td>1.505</td>\n",
              "    </tr>\n",
              "    <tr>\n",
              "      <th>499929</th>\n",
              "      <td>Calera de Tango</td>\n",
              "      <td>13403</td>\n",
              "      <td>406140</td>\n",
              "      <td>13403011001</td>\n",
              "      <td>121</td>\n",
              "      <td>[-21%,+20%,]</td>\n",
              "      <td>[+61%,+100%,]</td>\n",
              "      <td>2022-04-25</td>\n",
              "      <td>0.995</td>\n",
              "      <td>1.805</td>\n",
              "    </tr>\n",
              "    <tr>\n",
              "      <th>...</th>\n",
              "      <td>...</td>\n",
              "      <td>...</td>\n",
              "      <td>...</td>\n",
              "      <td>...</td>\n",
              "      <td>...</td>\n",
              "      <td>...</td>\n",
              "      <td>...</td>\n",
              "      <td>...</td>\n",
              "      <td>...</td>\n",
              "      <td>...</td>\n",
              "    </tr>\n",
              "    <tr>\n",
              "      <th>382669</th>\n",
              "      <td>Estación Central</td>\n",
              "      <td>13106</td>\n",
              "      <td>444420</td>\n",
              "      <td>13106101004</td>\n",
              "      <td>121</td>\n",
              "      <td>[-21%,+20%,]</td>\n",
              "      <td>[-21%,+20%,]</td>\n",
              "      <td>2022-04-25</td>\n",
              "      <td>0.995</td>\n",
              "      <td>0.995</td>\n",
              "    </tr>\n",
              "    <tr>\n",
              "      <th>383109</th>\n",
              "      <td>Estación Central</td>\n",
              "      <td>13106</td>\n",
              "      <td>466200</td>\n",
              "      <td>13106081002</td>\n",
              "      <td>121</td>\n",
              "      <td>[-21%,+20%,]</td>\n",
              "      <td>[+61%,+100%,]</td>\n",
              "      <td>2022-04-25</td>\n",
              "      <td>0.995</td>\n",
              "      <td>1.805</td>\n",
              "    </tr>\n",
              "    <tr>\n",
              "      <th>477709</th>\n",
              "      <td>San Miguel</td>\n",
              "      <td>13130</td>\n",
              "      <td>365000</td>\n",
              "      <td>13130061002</td>\n",
              "      <td>121</td>\n",
              "      <td>[-21%,+20%,]</td>\n",
              "      <td>[-21%,+20%,]</td>\n",
              "      <td>2022-04-25</td>\n",
              "      <td>0.995</td>\n",
              "      <td>0.995</td>\n",
              "    </tr>\n",
              "    <tr>\n",
              "      <th>383219</th>\n",
              "      <td>Estación Central</td>\n",
              "      <td>13106</td>\n",
              "      <td>466310</td>\n",
              "      <td>13106081003</td>\n",
              "      <td>121</td>\n",
              "      <td>[-21%,+20%,]</td>\n",
              "      <td>[+21%,+40%,]</td>\n",
              "      <td>2022-04-25</td>\n",
              "      <td>0.995</td>\n",
              "      <td>1.305</td>\n",
              "    </tr>\n",
              "    <tr>\n",
              "      <th>477599</th>\n",
              "      <td>San Miguel</td>\n",
              "      <td>13130</td>\n",
              "      <td>364890</td>\n",
              "      <td>13130061001</td>\n",
              "      <td>121</td>\n",
              "      <td>[-21%,+20%,]</td>\n",
              "      <td>[-60%,-41%,]</td>\n",
              "      <td>2022-04-25</td>\n",
              "      <td>0.995</td>\n",
              "      <td>0.495</td>\n",
              "    </tr>\n",
              "  </tbody>\n",
              "</table>\n",
              "<p>1864 rows × 10 columns</p>\n",
              "</div>\n",
              "      <button class=\"colab-df-convert\" onclick=\"convertToInteractive('df-e6232b41-df40-41e7-b6a3-77aff42819a8')\"\n",
              "              title=\"Convert this dataframe to an interactive table.\"\n",
              "              style=\"display:none;\">\n",
              "        \n",
              "  <svg xmlns=\"http://www.w3.org/2000/svg\" height=\"24px\"viewBox=\"0 0 24 24\"\n",
              "       width=\"24px\">\n",
              "    <path d=\"M0 0h24v24H0V0z\" fill=\"none\"/>\n",
              "    <path d=\"M18.56 5.44l.94 2.06.94-2.06 2.06-.94-2.06-.94-.94-2.06-.94 2.06-2.06.94zm-11 1L8.5 8.5l.94-2.06 2.06-.94-2.06-.94L8.5 2.5l-.94 2.06-2.06.94zm10 10l.94 2.06.94-2.06 2.06-.94-2.06-.94-.94-2.06-.94 2.06-2.06.94z\"/><path d=\"M17.41 7.96l-1.37-1.37c-.4-.4-.92-.59-1.43-.59-.52 0-1.04.2-1.43.59L10.3 9.45l-7.72 7.72c-.78.78-.78 2.05 0 2.83L4 21.41c.39.39.9.59 1.41.59.51 0 1.02-.2 1.41-.59l7.78-7.78 2.81-2.81c.8-.78.8-2.07 0-2.86zM5.41 20L4 18.59l7.72-7.72 1.47 1.35L5.41 20z\"/>\n",
              "  </svg>\n",
              "      </button>\n",
              "      \n",
              "  <style>\n",
              "    .colab-df-container {\n",
              "      display:flex;\n",
              "      flex-wrap:wrap;\n",
              "      gap: 12px;\n",
              "    }\n",
              "\n",
              "    .colab-df-convert {\n",
              "      background-color: #E8F0FE;\n",
              "      border: none;\n",
              "      border-radius: 50%;\n",
              "      cursor: pointer;\n",
              "      display: none;\n",
              "      fill: #1967D2;\n",
              "      height: 32px;\n",
              "      padding: 0 0 0 0;\n",
              "      width: 32px;\n",
              "    }\n",
              "\n",
              "    .colab-df-convert:hover {\n",
              "      background-color: #E2EBFA;\n",
              "      box-shadow: 0px 1px 2px rgba(60, 64, 67, 0.3), 0px 1px 3px 1px rgba(60, 64, 67, 0.15);\n",
              "      fill: #174EA6;\n",
              "    }\n",
              "\n",
              "    [theme=dark] .colab-df-convert {\n",
              "      background-color: #3B4455;\n",
              "      fill: #D2E3FC;\n",
              "    }\n",
              "\n",
              "    [theme=dark] .colab-df-convert:hover {\n",
              "      background-color: #434B5C;\n",
              "      box-shadow: 0px 1px 3px 1px rgba(0, 0, 0, 0.15);\n",
              "      filter: drop-shadow(0px 1px 2px rgba(0, 0, 0, 0.3));\n",
              "      fill: #FFFFFF;\n",
              "    }\n",
              "  </style>\n",
              "\n",
              "      <script>\n",
              "        const buttonEl =\n",
              "          document.querySelector('#df-e6232b41-df40-41e7-b6a3-77aff42819a8 button.colab-df-convert');\n",
              "        buttonEl.style.display =\n",
              "          google.colab.kernel.accessAllowed ? 'block' : 'none';\n",
              "\n",
              "        async function convertToInteractive(key) {\n",
              "          const element = document.querySelector('#df-e6232b41-df40-41e7-b6a3-77aff42819a8');\n",
              "          const dataTable =\n",
              "            await google.colab.kernel.invokeFunction('convertToInteractive',\n",
              "                                                     [key], {});\n",
              "          if (!dataTable) return;\n",
              "\n",
              "          const docLinkHtml = 'Like what you see? Visit the ' +\n",
              "            '<a target=\"_blank\" href=https://colab.research.google.com/notebooks/data_table.ipynb>data table notebook</a>'\n",
              "            + ' to learn more about interactive tables.';\n",
              "          element.innerHTML = '';\n",
              "          dataTable['output_type'] = 'display_data';\n",
              "          await google.colab.output.renderOutput(dataTable, element);\n",
              "          const docLink = document.createElement('div');\n",
              "          docLink.innerHTML = docLinkHtml;\n",
              "          element.appendChild(docLink);\n",
              "        }\n",
              "      </script>\n",
              "    </div>\n",
              "  </div>\n",
              "  "
            ]
          },
          "metadata": {},
          "execution_count": 279
        }
      ]
    },
    {
      "cell_type": "markdown",
      "source": [
        "## DP82\n",
        "link: [product82](https://github.com/MinCiencia/Datos-COVID19/tree/master/output/producto82)"
      ],
      "metadata": {
        "id": "XfcaMXTGa3DB"
      },
      "id": "XfcaMXTGa3DB"
    },
    {
      "cell_type": "code",
      "source": [
        "df_weeks = pd.read_csv('./datos/dp82_weeks.csv')\n",
        "#df_weekends = pd.read_csv('./datos/dp82_weekends.csv')\n",
        "\n",
        "# Fecha to Datetime && sort by Fecha\n",
        "df_weeks['fecha_inicio'] = pd.to_datetime(df_weeks['fecha_inicio'])\n",
        "df_weeks = df_weeks.sort_values(by=['fecha_inicio'])\n",
        "\n",
        "# Just RM\n",
        "df_weeks = df_weeks[ df_weeks['region'] == 13 ].drop(columns=['region'])\n",
        "\n",
        "# Just dates on DP51\n",
        "df_weeks = df_weeks[ df_weeks[\"fecha_inicio\"].isin(df_difs[\"Fecha\"]) ]\n",
        "\n",
        "# [!] Fill pasos \n",
        "df_weeks[\"paso\"] = df_weeks[\"paso\"].fillna(method=\"ffill\")\n",
        "\n",
        "# DF pasos\n",
        "df_pasos = df_weeks.pivot_table(values='paso', index='fecha_inicio', columns='nom_comuna')\n",
        "\n",
        "df_weeks.head(1)"
      ],
      "metadata": {
        "id": "Sj3laWPMa4gi",
        "colab": {
          "base_uri": "https://localhost:8080/",
          "height": 81
        },
        "outputId": "3cfb2505-c851-40bc-8d4d-0bf61ec18359"
      },
      "id": "Sj3laWPMa4gi",
      "execution_count": null,
      "outputs": [
        {
          "output_type": "execute_result",
          "data": {
            "text/plain": [
              "       semana  paso nom_comuna  comuna fecha_inicio fecha_termino  \\\n",
              "11544       9   0.0   PUDAHUEL   13124   2020-03-02    2020-03-06   \n",
              "\n",
              "       var_salidas  var_salidas_cota_inferior  var_salidas_cota_superior  \n",
              "11544     0.988342                   0.985605                    0.99108  "
            ],
            "text/html": [
              "\n",
              "  <div id=\"df-75a2a853-3ada-4635-829a-5f77402bfc0f\">\n",
              "    <div class=\"colab-df-container\">\n",
              "      <div>\n",
              "<style scoped>\n",
              "    .dataframe tbody tr th:only-of-type {\n",
              "        vertical-align: middle;\n",
              "    }\n",
              "\n",
              "    .dataframe tbody tr th {\n",
              "        vertical-align: top;\n",
              "    }\n",
              "\n",
              "    .dataframe thead th {\n",
              "        text-align: right;\n",
              "    }\n",
              "</style>\n",
              "<table border=\"1\" class=\"dataframe\">\n",
              "  <thead>\n",
              "    <tr style=\"text-align: right;\">\n",
              "      <th></th>\n",
              "      <th>semana</th>\n",
              "      <th>paso</th>\n",
              "      <th>nom_comuna</th>\n",
              "      <th>comuna</th>\n",
              "      <th>fecha_inicio</th>\n",
              "      <th>fecha_termino</th>\n",
              "      <th>var_salidas</th>\n",
              "      <th>var_salidas_cota_inferior</th>\n",
              "      <th>var_salidas_cota_superior</th>\n",
              "    </tr>\n",
              "  </thead>\n",
              "  <tbody>\n",
              "    <tr>\n",
              "      <th>11544</th>\n",
              "      <td>9</td>\n",
              "      <td>0.0</td>\n",
              "      <td>PUDAHUEL</td>\n",
              "      <td>13124</td>\n",
              "      <td>2020-03-02</td>\n",
              "      <td>2020-03-06</td>\n",
              "      <td>0.988342</td>\n",
              "      <td>0.985605</td>\n",
              "      <td>0.99108</td>\n",
              "    </tr>\n",
              "  </tbody>\n",
              "</table>\n",
              "</div>\n",
              "      <button class=\"colab-df-convert\" onclick=\"convertToInteractive('df-75a2a853-3ada-4635-829a-5f77402bfc0f')\"\n",
              "              title=\"Convert this dataframe to an interactive table.\"\n",
              "              style=\"display:none;\">\n",
              "        \n",
              "  <svg xmlns=\"http://www.w3.org/2000/svg\" height=\"24px\"viewBox=\"0 0 24 24\"\n",
              "       width=\"24px\">\n",
              "    <path d=\"M0 0h24v24H0V0z\" fill=\"none\"/>\n",
              "    <path d=\"M18.56 5.44l.94 2.06.94-2.06 2.06-.94-2.06-.94-.94-2.06-.94 2.06-2.06.94zm-11 1L8.5 8.5l.94-2.06 2.06-.94-2.06-.94L8.5 2.5l-.94 2.06-2.06.94zm10 10l.94 2.06.94-2.06 2.06-.94-2.06-.94-.94-2.06-.94 2.06-2.06.94z\"/><path d=\"M17.41 7.96l-1.37-1.37c-.4-.4-.92-.59-1.43-.59-.52 0-1.04.2-1.43.59L10.3 9.45l-7.72 7.72c-.78.78-.78 2.05 0 2.83L4 21.41c.39.39.9.59 1.41.59.51 0 1.02-.2 1.41-.59l7.78-7.78 2.81-2.81c.8-.78.8-2.07 0-2.86zM5.41 20L4 18.59l7.72-7.72 1.47 1.35L5.41 20z\"/>\n",
              "  </svg>\n",
              "      </button>\n",
              "      \n",
              "  <style>\n",
              "    .colab-df-container {\n",
              "      display:flex;\n",
              "      flex-wrap:wrap;\n",
              "      gap: 12px;\n",
              "    }\n",
              "\n",
              "    .colab-df-convert {\n",
              "      background-color: #E8F0FE;\n",
              "      border: none;\n",
              "      border-radius: 50%;\n",
              "      cursor: pointer;\n",
              "      display: none;\n",
              "      fill: #1967D2;\n",
              "      height: 32px;\n",
              "      padding: 0 0 0 0;\n",
              "      width: 32px;\n",
              "    }\n",
              "\n",
              "    .colab-df-convert:hover {\n",
              "      background-color: #E2EBFA;\n",
              "      box-shadow: 0px 1px 2px rgba(60, 64, 67, 0.3), 0px 1px 3px 1px rgba(60, 64, 67, 0.15);\n",
              "      fill: #174EA6;\n",
              "    }\n",
              "\n",
              "    [theme=dark] .colab-df-convert {\n",
              "      background-color: #3B4455;\n",
              "      fill: #D2E3FC;\n",
              "    }\n",
              "\n",
              "    [theme=dark] .colab-df-convert:hover {\n",
              "      background-color: #434B5C;\n",
              "      box-shadow: 0px 1px 3px 1px rgba(0, 0, 0, 0.15);\n",
              "      filter: drop-shadow(0px 1px 2px rgba(0, 0, 0, 0.3));\n",
              "      fill: #FFFFFF;\n",
              "    }\n",
              "  </style>\n",
              "\n",
              "      <script>\n",
              "        const buttonEl =\n",
              "          document.querySelector('#df-75a2a853-3ada-4635-829a-5f77402bfc0f button.colab-df-convert');\n",
              "        buttonEl.style.display =\n",
              "          google.colab.kernel.accessAllowed ? 'block' : 'none';\n",
              "\n",
              "        async function convertToInteractive(key) {\n",
              "          const element = document.querySelector('#df-75a2a853-3ada-4635-829a-5f77402bfc0f');\n",
              "          const dataTable =\n",
              "            await google.colab.kernel.invokeFunction('convertToInteractive',\n",
              "                                                     [key], {});\n",
              "          if (!dataTable) return;\n",
              "\n",
              "          const docLinkHtml = 'Like what you see? Visit the ' +\n",
              "            '<a target=\"_blank\" href=https://colab.research.google.com/notebooks/data_table.ipynb>data table notebook</a>'\n",
              "            + ' to learn more about interactive tables.';\n",
              "          element.innerHTML = '';\n",
              "          dataTable['output_type'] = 'display_data';\n",
              "          await google.colab.output.renderOutput(dataTable, element);\n",
              "          const docLink = document.createElement('div');\n",
              "          docLink.innerHTML = docLinkHtml;\n",
              "          element.appendChild(docLink);\n",
              "        }\n",
              "      </script>\n",
              "    </div>\n",
              "  </div>\n",
              "  "
            ]
          },
          "metadata": {},
          "execution_count": 4
        }
      ]
    },
    {
      "cell_type": "markdown",
      "source": [
        "## `Dif salida` VS `var_salidas`\n",
        "En general siguen las mismas tendencias, pero tienen una diferencia de 0.2 que no estoy seguro pq ocurre.\n",
        "Lo unico raro es la diferencia al final, (el peak hacia abajo es por un error de mediciones en uno de los datasets.) pero al final, el dataset `var` tiene un amuento raro que no se ve en la otra curva."
      ],
      "metadata": {
        "id": "E62vmXdlXhuA"
      },
      "id": "E62vmXdlXhuA"
    },
    {
      "cell_type": "code",
      "source": [
        "dif  = df_salidas[\"Santiago\"]\n",
        "var  = df_weeks[ df_weeks[\"nom_comuna\"] == \"SANTIAGO\" ].set_index(\"fecha_inicio\")\n",
        "\n",
        "var_salidas = var[\"var_salidas\"]\n",
        "paso = var[\"paso\"]\n",
        "\n",
        "plt.figure()\n",
        "\n",
        "plt.plot(paso / 8 + 0.5)\n",
        "plt.plot(var_salidas)\n",
        "plt.plot(dif - 0.2)\n",
        "\n",
        "plt.legend([\"var\", \"dif\"])\n",
        "plt.show()\n",
        "\n",
        "f\"shift promedio entre var y dif: {(dif - var_salidas).mean()}\""
      ],
      "metadata": {
        "id": "bWMIUbY87qYf",
        "colab": {
          "base_uri": "https://localhost:8080/",
          "height": 283
        },
        "outputId": "1650b165-ab2a-48fc-bd99-28efec521286"
      },
      "id": "bWMIUbY87qYf",
      "execution_count": null,
      "outputs": [
        {
          "output_type": "display_data",
          "data": {
            "text/plain": [
              "<Figure size 432x288 with 1 Axes>"
            ],
            "image/png": "[encoded data removed]"
          },
          "metadata": {
            "needs_background": "light"
          }
        },
        {
          "output_type": "execute_result",
          "data": {
            "text/plain": [
              "'shift promedio entre var y dif: 0.19000725738526164'"
            ],
            "application/vnd.google.colaboratory.intrinsic+json": {
              "type": "string"
            }
          },
          "metadata": {},
          "execution_count": 5
        }
      ]
    },
    {
      "cell_type": "markdown",
      "source": [
        "# Medición de eficiencia"
      ],
      "metadata": {
        "id": "qiTzUVjxwMv2"
      },
      "id": "qiTzUVjxwMv2"
    },
    {
      "cell_type": "code",
      "source": [],
      "metadata": {
        "id": "JrsxzSCfwLtL"
      },
      "id": "JrsxzSCfwLtL",
      "execution_count": null,
      "outputs": []
    }
  ],
  "metadata": {
    "kernelspec": {
      "display_name": "Python 3 (ipykernel)",
      "language": "python",
      "name": "python3"
    },
    "language_info": {
      "codemirror_mode": {
        "name": "ipython",
        "version": 3
      },
      "file_extension": ".py",
      "mimetype": "text/x-python",
      "name": "python",
      "nbconvert_exporter": "python",
      "pygments_lexer": "ipython3",
      "version": "3.10.8"
    },
    "colab": {
      "provenance": [],
      "include_colab_link": true
    }
  },
  "nbformat": 4,
  "nbformat_minor": 5
}